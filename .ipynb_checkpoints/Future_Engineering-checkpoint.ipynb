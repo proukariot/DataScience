{
 "cells": [
  {
   "cell_type": "code",
   "execution_count": null,
   "id": "e11de04b",
   "metadata": {},
   "outputs": [],
   "source": [
    "import numpy as np\n",
    "import pandas as pd\n",
    "import seaborn as sns\n",
    "import matplotlib.pyplot as plt\n",
    "\n",
    "from scipy import stats\n",
    "from sklearn.model_selection import train_test_split\n",
    "from sklearn.linear_model import LogisticRegression\n",
    "from sklearn import metrics\n",
    "from sklearn.metrics import confusion_matrix"
   ]
  },
  {
   "cell_type": "code",
   "execution_count": null,
   "id": "019c1e8d",
   "metadata": {},
   "outputs": [],
   "source": [
    "# #Uzupełnienie kolumn zawierających puste pola wartością ?\n",
    "# loan_data[[\"emp_length\", \n",
    "#            \"mths_since_last_delinq\", \n",
    "#            \"pub_rec_bankruptcies\",\n",
    "#           \"revol_util\"]] = loan_data[[\"emp_length\", \n",
    "#                                                  \"mths_since_last_delinq\", \n",
    "#                                                  \"pub_rec_bankruptcies\",\n",
    "#                                      \"revol_util\"]].fillna(0)"
   ]
  },
  {
   "cell_type": "code",
   "execution_count": null,
   "id": "c4965459",
   "metadata": {},
   "outputs": [],
   "source": [
    "# loan_data['verification_status'].replace({'Verified':1, \n",
    "#                                           'Source Verified':1, \n",
    "#                                           'Not Verified':0}, inplace = True)\n",
    "# loan_data['loan_status'].replace({'Fully Paid':1, \n",
    "#                                   'Charged Off':0}, inplace = True)"
   ]
  },
  {
   "cell_type": "code",
   "execution_count": null,
   "id": "56617d33",
   "metadata": {},
   "outputs": [],
   "source": []
  },
  {
   "cell_type": "code",
   "execution_count": null,
   "id": "81788223",
   "metadata": {},
   "outputs": [],
   "source": [
    "#print('Number of outliers in df: ',concrete_df1[((concrete_df1.cement - concrete_df1.cement.mean()) / concrete_df1.cement.std()).abs() >3]['cement'].count())\n"
   ]
  }
 ],
 "metadata": {
  "kernelspec": {
   "display_name": "Python 3 (ipykernel)",
   "language": "python",
   "name": "python3"
  },
  "language_info": {
   "codemirror_mode": {
    "name": "ipython",
    "version": 3
   },
   "file_extension": ".py",
   "mimetype": "text/x-python",
   "name": "python",
   "nbconvert_exporter": "python",
   "pygments_lexer": "ipython3",
   "version": "3.9.13"
  }
 },
 "nbformat": 4,
 "nbformat_minor": 5
}
