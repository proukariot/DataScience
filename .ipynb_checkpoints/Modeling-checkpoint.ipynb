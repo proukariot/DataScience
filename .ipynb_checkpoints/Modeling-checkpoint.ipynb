{
 "cells": [
  {
   "cell_type": "code",
   "execution_count": null,
   "id": "e93c7818",
   "metadata": {},
   "outputs": [],
   "source": [
    "# Decision Tree\n",
    "# Random Forest\n",
    "# Gradient Boost Regressor\n",
    "# Ada Boosting Regressor\n",
    "# Bagging Regressor\n",
    "# KNN Regressor\n",
    "# Support Vector Regressor\n",
    "# SVR k fold\n",
    "\n",
    "# F1Score\n",
    "# ROC_AUC Score\n",
    "# PCA"
   ]
  }
 ],
 "metadata": {
  "kernelspec": {
   "display_name": "Python 3 (ipykernel)",
   "language": "python",
   "name": "python3"
  },
  "language_info": {
   "codemirror_mode": {
    "name": "ipython",
    "version": 3
   },
   "file_extension": ".py",
   "mimetype": "text/x-python",
   "name": "python",
   "nbconvert_exporter": "python",
   "pygments_lexer": "ipython3",
   "version": "3.9.13"
  }
 },
 "nbformat": 4,
 "nbformat_minor": 5
}
