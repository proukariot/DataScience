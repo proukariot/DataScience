{
 "cells": [
  {
   "cell_type": "code",
   "execution_count": 4,
   "id": "e743f616",
   "metadata": {},
   "outputs": [
    {
     "name": "stderr",
     "output_type": "stream",
     "text": [
      "C:\\Users\\maryn\\AppData\\Local\\Temp\\ipykernel_18040\\3452854624.py:5: DeprecationWarning: `import pandas_profiling` is going to be deprecated by April 1st. Please use `import ydata_profiling` instead.\n",
      "  import pandas_profiling\n"
     ]
    }
   ],
   "source": [
    "import numpy as np\n",
    "import pandas as pd\n",
    "import seaborn as sns\n",
    "import matplotlib.pyplot as plt\n",
    "import pandas_profiling\n",
    "\n",
    "from scipy import stats\n",
    "from sklearn.model_selection import train_test_split\n",
    "from sklearn.linear_model import LogisticRegression\n",
    "from sklearn import metrics\n",
    "from sklearn.metrics import confusion_matrix"
   ]
  },
  {
   "cell_type": "code",
   "execution_count": 3,
   "id": "6b31a6d4",
   "metadata": {},
   "outputs": [
    {
     "data": {
      "text/plain": [
       "(39786, 31)"
      ]
     },
     "execution_count": 3,
     "metadata": {},
     "output_type": "execute_result"
    }
   ],
   "source": [
    "eda_data = pd.read_csv('c_data.csv')\n",
    "eda_data.shape"
   ]
  },
  {
   "cell_type": "code",
   "execution_count": null,
   "id": "9642c8fe",
   "metadata": {},
   "outputs": [],
   "source": [
    "# plt.figure(figsize=(12,10))\n",
    "# sns.heatmap(round(loan_data[loan_data['loan_status']==0].drop('loan_status',axis=1).corr(), 1),cmap='Blues',annot=True)\n",
    "# plt.title('People with loan unpaid correlation heatmap')\n",
    "\n",
    "# plt.figure(figsize=(12,10))\n",
    "# sns.heatmap(round(loan_data[loan_data['loan_status']==1].drop('loan_status',axis=1).corr(), 1),cmap='Blues',annot=True)\n",
    "# plt.title('People with loan paid correlation heatmap')"
   ]
  }
 ],
 "metadata": {
  "kernelspec": {
   "display_name": "Python 3 (ipykernel)",
   "language": "python",
   "name": "python3"
  },
  "language_info": {
   "codemirror_mode": {
    "name": "ipython",
    "version": 3
   },
   "file_extension": ".py",
   "mimetype": "text/x-python",
   "name": "python",
   "nbconvert_exporter": "python",
   "pygments_lexer": "ipython3",
   "version": "3.10.11"
  }
 },
 "nbformat": 4,
 "nbformat_minor": 5
}
